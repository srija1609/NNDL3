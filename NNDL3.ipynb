{
  "nbformat": 4,
  "nbformat_minor": 0,
  "metadata": {
    "colab": {
      "provenance": []
    },
    "kernelspec": {
      "name": "python3",
      "display_name": "Python 3"
    },
    "language_info": {
      "name": "python"
    }
  },
  "cells": [
    {
      "cell_type": "code",
      "execution_count": 1,
      "metadata": {
        "colab": {
          "base_uri": "https://localhost:8080/"
        },
        "id": "xXux_--BcKP3",
        "outputId": "7187a4bb-50c3-4b86-c80b-d631bf23dd12"
      },
      "outputs": [
        {
          "output_type": "stream",
          "name": "stdout",
          "text": [
            "Few benefits as full time employee.\n",
            "Average salary: 158750.0\n"
          ]
        }
      ],
      "source": [
        "class Employee:\n",
        "    \"\"\"    class with Employee name, family, salary and department    \"\"\"\n",
        "\n",
        "    no_of_employees = 0\n",
        "\n",
        "    def __init__(self, name, family_name, salary, department):\n",
        "        self.__name = name\n",
        "        self.__family_name = family_name\n",
        "        self.salary = salary\n",
        "        self.__department = department\n",
        "        Employee.no_of_employees += 1\n",
        "\n",
        "    @staticmethod\n",
        "    def average_salary(employees):\n",
        "        \"\"\"        function for the avg salary        \"\"\"\n",
        "        sum = 0\n",
        "        for employee in employees:\n",
        "            sum += employee.salary\n",
        "        return sum / Employee.no_of_employees\n",
        "\n",
        "class FulltimeEmployee(Employee):\n",
        "    \"\"\"    Full Time Employee is the sub class of the Employee    \"\"\"\n",
        "\n",
        "    def __init__(self, name, family_name, salary, department):\n",
        "        super().__init__(name, family_name, salary, department)\n",
        "\n",
        "    def full_time_benefits(self):\n",
        "        print(\"Few benefits as full time employee.\")\n",
        "\n",
        "def main():\n",
        "    employees = []\n",
        "    fte1 = FulltimeEmployee(\"Employee1\", \"FamilyName1\", 130000, \"Management\")\n",
        "    fte1.full_time_benefits()\n",
        "    employees.append(fte1)\n",
        "    fte2 = FulltimeEmployee(\"Employee2\", \"FamilyName2\", 190000, \"RnD\")\n",
        "    employees.append(fte2)\n",
        "    emp1 = Employee(\"Employee3\", \"FamilyName3\", 170000, \"Marketing\")\n",
        "    employees.append(emp1)\n",
        "    emp2 = Employee(\"Employee4\", \"FamilyName4\", 145000, \"HR\")\n",
        "    employees.append(emp2)\n",
        "    print(\"Average salary:\", FulltimeEmployee.average_salary(employees))\n",
        "\n",
        "if __name__ == \"__main__\":\n",
        "    main()\n",
        "\n"
      ]
    },
    {
      "cell_type": "code",
      "source": [
        "import numpy as np\n",
        "\n",
        "def replace_maxmium(array, replace_value, axis):\n",
        "    \"\"\" choose from x or y depending on condition: np.where(condition, x, y) \"\"\"\n",
        "    output = np.where(array == np.max(\n",
        "        array, axis=1).reshape(-1, 1), 0 * array, array)\n",
        "    print(output)\n",
        "\n",
        "def main():\n",
        "\n",
        "    random20 = np.random.random_sample(20) * 20 + 1\n",
        "\n",
        "    random20_4by5 = random20.reshape((4, 5))\n",
        "\n",
        "    replace_maxmium(random20_4by5, 0, 1)\n",
        "\n",
        "if __name__ == \"__main__\":\n",
        "    main()\n"
      ],
      "metadata": {
        "colab": {
          "base_uri": "https://localhost:8080/"
        },
        "id": "Eay3lRV2cUpR",
        "outputId": "6dbd7ff9-1935-459d-bb17-e253c82b9d2a"
      },
      "execution_count": 2,
      "outputs": [
        {
          "output_type": "stream",
          "name": "stdout",
          "text": [
            "[[ 0.          3.54893812 10.82022997 16.55099845  4.41801539]\n",
            " [ 0.          9.00850762  2.35042481 16.54001329 14.17466297]\n",
            " [ 0.          8.60584569  3.08961014  8.08239346  3.00639068]\n",
            " [ 5.20571783 18.06255224 18.79645004  0.          1.27399252]]\n"
          ]
        }
      ]
    },
    {
      "cell_type": "code",
      "source": [],
      "metadata": {
        "id": "vr8LeLFQcUuu"
      },
      "execution_count": null,
      "outputs": []
    }
  ]
}